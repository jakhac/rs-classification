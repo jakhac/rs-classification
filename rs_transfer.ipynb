{
 "cells": [
  {
   "cell_type": "markdown",
   "metadata": {},
   "source": [
    "# Transfer Learning Approach with Pretrained Model (EfficientNet)"
   ]
  },
  {
   "cell_type": "code",
   "execution_count": 2,
   "metadata": {},
   "outputs": [],
   "source": [
    "%matplotlib inline\n",
    "\n",
    "import os\n",
    "os.environ['CUDA_VISIBLE_DEVICES'] = \"0\"\n",
    "\n",
    "import numpy as np\n",
    "from sklearn.model_selection import train_test_split\n",
    "\n",
    "from tensorflow import keras\n",
    "\n",
    "from keras.applications.efficientnet import preprocess_input\n",
    "from tensorflow.keras.applications import EfficientNetB0\n",
    "from tensorflow.keras.utils import to_categorical\n",
    "from keras.preprocessing.image import ImageDataGenerator\n",
    "from keras.layers import Dense, Dropout, GlobalAveragePooling2D, BatchNormalization\n",
    "from keras.preprocessing import image\n",
    "\n",
    "from sklearn.metrics import confusion_matrix, ConfusionMatrixDisplay\n",
    "from sklearn.metrics import precision_score, recall_score, accuracy_score\n",
    "\n",
    "import matplotlib.pyplot as plt\n",
    "\n",
    "from sklearn.utils.class_weight import compute_class_weight"
   ]
  },
  {
   "cell_type": "markdown",
   "metadata": {},
   "source": [
    "## Load Dataset"
   ]
  },
  {
   "cell_type": "markdown",
   "metadata": {},
   "source": [
    "Read the test and training data into variables. Images are already processed here, i.e. correctly sized, converted to numpy arrays and preprocessed similir to EfficientNet."
   ]
  },
  {
   "cell_type": "code",
   "execution_count": 3,
   "metadata": {},
   "outputs": [
    {
     "name": "stdout",
     "output_type": "stream",
     "text": [
      "['agricultural', 'airplane', 'baseballdiamond', 'beach', 'buildings', 'chaparral', 'denseresidential', 'forest', 'freeway', 'golfcourse', 'harbor', 'intersection', 'mediumresidential', 'mobilehomepark', 'overpass', 'parkinglot', 'river', 'runway', 'sparseresidential', 'storagetanks', 'tenniscourt']\n"
     ]
    }
   ],
   "source": [
    "train_dir = './ds/train/'\n",
    "test_dir = './ds/test/'\n",
    "\n",
    "classes = [os.path.basename(x[0]) for x in os.walk(train_dir) if x[0]][1:]\n",
    "num_classes = len(classes)\n",
    "print(classes)"
   ]
  },
  {
   "cell_type": "code",
   "execution_count": 4,
   "metadata": {},
   "outputs": [],
   "source": [
    "def load_data(path):\n",
    "    data = []\n",
    "    for c, category in enumerate(classes):\n",
    "        images = [os.path.join(dp, f) for dp, dn, filenames in os.walk(path + category) for f in filenames]\n",
    "\n",
    "        for img_path in images:\n",
    "            # Note that we apply the same preprocessing and target images of size 224x224\n",
    "            # in order to match the setup of original EfficientNet model\n",
    "            img = image.load_img(img_path, target_size=(224, 224))\n",
    "            x = image.img_to_array(img)\n",
    "            x = np.expand_dims(x, axis=0)\n",
    "            x = preprocess_input(x)\n",
    "\n",
    "            data.append({'x' : np.array(x[0]), 'y' : c})\n",
    "\n",
    "    return data\n",
    "\n",
    "\n",
    "data_train_val = load_data(train_dir)\n",
    "data_test = load_data(test_dir)"
   ]
  },
  {
   "cell_type": "code",
   "execution_count": 5,
   "metadata": {},
   "outputs": [
    {
     "name": "stdout",
     "output_type": "stream",
     "text": [
      "Train images: 872 (872, 21)\n",
      "Val images: 219 (219, 21)\n",
      "Test images: 279 (279, 21)\n"
     ]
    }
   ],
   "source": [
    "X_train_val, y_train_val = np.array([t[\"x\"] for t in data_train_val]), [t[\"y\"] for t in data_train_val]\n",
    "X_test, y_test = np.array([t[\"x\"] for t in data_test]), [t[\"y\"] for t in data_test]\n",
    "\n",
    "X_train, X_val, y_train, y_val = train_test_split(X_train_val, y_train_val, random_state=42, test_size=0.2)\n",
    "\n",
    "# Convert classes to one-hot vectors\n",
    "y_train = to_categorical(y_train)\n",
    "y_val = to_categorical(y_val)\n",
    "y_test = to_categorical(y_test)\n",
    "\n",
    "print('Train images:', len(y_train), y_train.shape)\n",
    "print('Val images:', len(y_val), y_val.shape)\n",
    "print('Test images:', len(y_test), y_test.shape)\n"
   ]
  },
  {
   "cell_type": "markdown",
   "metadata": {},
   "source": [
    "## Data Enhancement"
   ]
  },
  {
   "cell_type": "markdown",
   "metadata": {},
   "source": [
    "#### Balance classes"
   ]
  },
  {
   "cell_type": "markdown",
   "metadata": {},
   "source": [
    "The imbalance in the training data is now reduced. Class weights are used to let the CNN pay special attention to classes that are underrepresented."
   ]
  },
  {
   "cell_type": "code",
   "execution_count": 6,
   "metadata": {},
   "outputs": [],
   "source": [
    "# Compute class weights to let the CNN pay attention to less frequent classes when fitting the model\n",
    "y_integers = np.argmax(y_train, axis=1)\n",
    "class_weights = compute_class_weight(class_weight=\"balanced\",\n",
    "                                     classes=np.unique(y_integers),\n",
    "                                     y=y_integers)\n",
    "class_weights = dict(zip(np.unique(y_integers), class_weights))"
   ]
  },
  {
   "cell_type": "markdown",
   "metadata": {},
   "source": [
    "#### Generate artificial images using shift, rotation, flip"
   ]
  },
  {
   "cell_type": "markdown",
   "metadata": {},
   "source": [
    "Use an ImageDataGenerator to slightly change images in each epoch. Note that this is only done to training data, but not to validation data."
   ]
  },
  {
   "cell_type": "code",
   "execution_count": 7,
   "metadata": {},
   "outputs": [],
   "source": [
    "# Enrich train data set by rotation, flip, shift\n",
    "gen_train = ImageDataGenerator(rotation_range=5,\n",
    "                               width_shift_range=0.1,\n",
    "                               height_shift_range=0.1,\n",
    "                               horizontal_flip=True,\n",
    "                               data_format='channels_last',\n",
    "                               preprocessing_function=preprocess_input)\n",
    "\n",
    "# No augmentation for test and validation sets\n",
    "gen_val_test = ImageDataGenerator(data_format='channels_last',\n",
    "                                  preprocessing_function=preprocess_input)\n",
    "\n",
    "# Generate iterators for train/val/test sets\n",
    "train_iter = gen_train.flow(X_train, y_train, batch_size=16)\n",
    "val_iter = gen_val_test.flow(X_val, y_val, batch_size=16)\n",
    "test_iter = gen_val_test.flow(X_test, y_test, batch_size=16)\n"
   ]
  },
  {
   "cell_type": "markdown",
   "metadata": {},
   "source": [
    "## Model Creation and Training"
   ]
  },
  {
   "cell_type": "markdown",
   "metadata": {},
   "source": [
    "Create a CNN model using multiple convolutional layers. As opposed to constant a number of filters in each convolutional layer, this model increases number of filters in deeper layers as more complex features can be learned."
   ]
  },
  {
   "cell_type": "code",
   "execution_count": null,
   "metadata": {},
   "outputs": [],
   "source": [
    "def get_model():\n",
    "\n",
    "    base_model = EfficientNetB0(weights='imagenet',\n",
    "                          include_top=False,\n",
    "                          input_shape=X_train.shape[1:],\n",
    "                          classes=num_classes)\n",
    "    \n",
    "    # Freeze pretrained model weights\n",
    "    base_model.trainable = False\n",
    "    inputs = keras.Input(shape=X_train.shape[1:])\n",
    "\n",
    "    x = base_model(inputs, training=False)\n",
    "    x = GlobalAveragePooling2D()(x)\n",
    "    x = BatchNormalization()(x)\n",
    "    x = Dropout(0.2)(x)\n",
    "\n",
    "    x = Dense(256, activation='relu')(x)\n",
    "\n",
    "    outputs = Dense(num_classes, activation='softmax', name='pred')(x)\n",
    "\n",
    "    return keras.Model(inputs, outputs)\n"
   ]
  },
  {
   "cell_type": "code",
   "execution_count": null,
   "metadata": {},
   "outputs": [],
   "source": [
    "tl_model = get_model()\n",
    "tl_model.summary()\n",
    "\n",
    "tl_model.compile(loss='categorical_crossentropy',\n",
    "                 optimizer='adam',\n",
    "                 metrics=['accuracy'])"
   ]
  },
  {
   "cell_type": "code",
   "execution_count": null,
   "metadata": {},
   "outputs": [],
   "source": [
    "# Create checkpoints during training\n",
    "filepath = './models/transfer/transfer_{epoch:02d}_{val_accuracy:.2f}.hdf5'\n",
    "\n",
    "checkpoint = keras.callbacks.ModelCheckpoint(filepath, monitor='val_accuracy', verbose=1, save_best_only=True, mode='max')\n",
    "lr = keras.callbacks.ReduceLROnPlateau(monitor=\"val_loss\", factor=0.5, patience=3, verbose=1)\n",
    "\n",
    "callbacks_list = [checkpoint, lr]\n",
    "\n",
    "# Train the model\n",
    "history = tl_model.fit(train_iter,\n",
    "                    epochs=25,\n",
    "                    validation_data=val_iter,\n",
    "                    callbacks=callbacks_list,\n",
    "                    class_weight=class_weights,\n",
    "                    workers=3)"
   ]
  },
  {
   "cell_type": "markdown",
   "metadata": {},
   "source": [
    "#### Visualize training progress along epochs"
   ]
  },
  {
   "cell_type": "markdown",
   "metadata": {},
   "source": [
    "Plot the (val_)accuracy and (val_)loss along epochs to identify over- and underfitting."
   ]
  },
  {
   "cell_type": "code",
   "execution_count": null,
   "metadata": {},
   "outputs": [],
   "source": [
    "fig = plt.figure(figsize=(16,4))\n",
    "ax = fig.add_subplot(121)\n",
    "ax.plot(history.history[\"val_loss\"], label='validation')\n",
    "ax.plot(history.history[\"loss\"], label='train')\n",
    "ax.legend(loc=\"upper right\")\n",
    "ax.set_title(\"Loss\")\n",
    "ax.set_xlabel(\"epochs\")\n",
    "\n",
    "ax2 = fig.add_subplot(122)\n",
    "ax2.plot(history.history[\"val_accuracy\"], label='validation')\n",
    "ax2.plot(history.history[\"accuracy\"], label='train')\n",
    "ax2.legend(loc=\"lower right\")\n",
    "ax2.set_title(\"Accuracy\")\n",
    "ax2.set_xlabel(\"epochs\")\n",
    "ax2.set_ylim(0, 1)\n",
    "\n",
    "plt.show()"
   ]
  },
  {
   "cell_type": "markdown",
   "metadata": {},
   "source": [
    "## Evaluation"
   ]
  },
  {
   "cell_type": "markdown",
   "metadata": {},
   "source": [
    "#### Analysis of model performance on test data"
   ]
  },
  {
   "cell_type": "code",
   "execution_count": 9,
   "metadata": {},
   "outputs": [],
   "source": [
    "# NOTE: By default, the finished model is loaded from the repository in order to evaluate\n",
    "# without compiling and fitting the model again. However, if you train again,\n",
    "# uncomment the following line and comment the load_model() call below\n",
    "\n",
    "# test_model = tl_model\n",
    "test_model = keras.models.load_model('./models/transfer/transfer_ep=08_acc=83.h5')\n",
    "\n",
    "y_pred = test_model.predict(X_test)\n",
    "y_pred = np.argmax(y_pred, axis = 1)\n",
    "y_true = np.argmax(y_test, axis = 1)"
   ]
  },
  {
   "cell_type": "code",
   "execution_count": 10,
   "metadata": {},
   "outputs": [
    {
     "data": {
      "image/png": "[encoded data removed]",
      "text/plain": [
       "<Figure size 1008x432 with 1 Axes>"
      ]
     },
     "metadata": {
      "needs_background": "light"
     },
     "output_type": "display_data"
    }
   ],
   "source": [
    "# Plot the distribution of predicted classes\n",
    "\n",
    "unique, counts = np.unique(y_pred, return_counts=True)\n",
    "ticks = np.arange(len(counts))\n",
    "pred_dist = sorted(zip(classes, counts), key=lambda x: x[1], reverse=True)\n",
    "\n",
    "plt.figure(figsize=(14,6))\n",
    "plt.grid(color='w', axis='y')\n",
    "plt.bar(ticks, [c[1] for c in pred_dist])\n",
    "plt.xticks(ticks, [c[0][:4] for c in pred_dist], rotation=75)\n",
    "plt.show()"
   ]
  },
  {
   "cell_type": "code",
   "execution_count": 11,
   "metadata": {},
   "outputs": [
    {
     "name": "stdout",
     "output_type": "stream",
     "text": [
      "Acc:  0.8315412186379928\n",
      "Prec:  0.864981354766301\n",
      "Rec:  0.8315412186379928\n"
     ]
    },
    {
     "data": {
      "image/png": "[encoded data removed]",
      "text/plain": [
       "<Figure size 792x792 with 2 Axes>"
      ]
     },
     "metadata": {
      "needs_background": "light"
     },
     "output_type": "display_data"
    }
   ],
   "source": [
    "cm = confusion_matrix(y_true, y_pred)\n",
    "cm = np.round(cm, 2)\n",
    "\n",
    "cmd = ConfusionMatrixDisplay(cm, display_labels=[c[:4] for c in classes])\n",
    "\n",
    "fig, ax = plt.subplots(figsize=(11,11))\n",
    "cmd.plot(ax=ax, xticks_rotation='vertical')\n",
    "\n",
    "print('Acc: ', accuracy_score(y_true, y_pred))\n",
    "print('Prec: ', precision_score(y_true, y_pred, average='weighted'))\n",
    "print('Rec: ', recall_score(y_true, y_pred, average='weighted'))\n",
    "# Acc:  0.8315412186379928\n",
    "# Prec:  0.864981354766301\n",
    "# Rec:  0.8315412186379928"
   ]
  }
 ],
 "metadata": {
  "interpreter": {
   "hash": "9975a71c6d7ff9b9547f9907661bca7a033cdc6e7c87f596a27a936a2886f07d"
  },
  "kernelspec": {
   "display_name": "Python 3.8.10 ('venv': venv)",
   "language": "python",
   "name": "python3"
  },
  "language_info": {
   "codemirror_mode": {
    "name": "ipython",
    "version": 3
   },
   "file_extension": ".py",
   "mimetype": "text/x-python",
   "name": "python",
   "nbconvert_exporter": "python",
   "pygments_lexer": "ipython3",
   "version": "3.8.10"
  },
  "orig_nbformat": 4
 },
 "nbformat": 4,
 "nbformat_minor": 2
}
